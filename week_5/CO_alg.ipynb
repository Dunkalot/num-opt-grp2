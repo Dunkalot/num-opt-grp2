{
 "cells": [
  {
   "cell_type": "code",
   "execution_count": 1,
   "metadata": {},
   "outputs": [
    {
     "name": "stderr",
     "output_type": "stream",
     "text": [
      "C:\\Users\\14552\\AppData\\Local\\Temp\\ipykernel_9136\\3535870860.py:15: MatplotlibDeprecationWarning: The seaborn styles shipped by Matplotlib are deprecated since 3.6, as they no longer correspond to the styles shipped by seaborn. However, they will remain available as 'seaborn-v0_8-<style>'. Alternatively, directly use the seaborn API instead.\n",
      "  plt.style.use('seaborn-darkgrid')\n"
     ]
    }
   ],
   "source": [
    "import sys\n",
    "# setting path\n",
    "sys.path.append(\"../\")\n",
    "\n",
    "import numpy as np\n",
    "import matplotlib\n",
    "%matplotlib inline\n",
    "\n",
    "import matplotlib as mpl\n",
    "import matplotlib.pyplot as plt\n",
    "from mpl_toolkits.axes_grid1 import make_axes_locatable\n",
    "from scipy.optimize import minimize\n",
    "from time import time\n",
    "from tqdm.notebook import tqdm\n",
    "plt.style.use('seaborn-darkgrid')\n",
    "plt.rcParams.update({'font.size': 18})\n",
    "\n",
    "#if this fails, you need to put the case_studies.py file in the same folder\n",
    "from case_studies import *"
   ]
  },
  {
   "cell_type": "code",
   "execution_count": 2,
   "metadata": {},
   "outputs": [],
   "source": [
    "def backtrack(func, grad, x, direction, init_alpha, c, r):\n",
    "    alpha = init_alpha\n",
    "    iterations = 0\n",
    "    while func(x + alpha * direction) > func(x) + c*alpha*direction.T @ grad(x):\n",
    "        alpha *= r\n",
    "        iterations += 1\n",
    "    return alpha, iterations\n",
    "\n",
    "# TODO: \n",
    "\n",
    "\n",
    "def steepest_descent(func, grad, x_0, c, r, epsilon=1e-10, max_iterations=1000):\n",
    "    stepsize = 1\n",
    "    xs = [x_0]\n",
    "    while len(xs) < max_iterations and np.linalg.norm(grad(xs[-1])) > epsilon:\n",
    "        x = xs[-1]\n",
    "        direction = -grad(x)\n",
    "        alpha, backtracks = backtrack(func, grad, x, direction, stepsize, c, r)\n",
    "        xs.append(x + alpha*direction)\n",
    "        stepsize = alpha / r\n",
    "        \n",
    "    return np.array(xs)\n",
    "\n",
    "\n",
    "# TODO: change the stop condition\n",
    "# TODO: Add some \n",
    "\n",
    "def newton(func, grad, hessian, x_0, c, r, epsilon=1e-10, max_iterations=1000):\n",
    "    xs = [x_0]\n",
    "    while len(xs) < max_iterations and np.linalg.norm(grad(xs[-1])) > epsilon:\n",
    "        x = xs[-1]\n",
    "        eig_vals, eig_vecs = np.linalg.eig(hessian(x))\n",
    "        if np.all(eig_vals > 0):\n",
    "            #direction = -np.linalg.inv(hessian(x)) @ grad(x)\n",
    "            B = hessian(x)\n",
    "        else:\n",
    "            # hs = [1/abs(eig_val) * np.outer(eig_vec, eig_vec) for eig_val, eig_vec in zip(eig_vals, eig_vecs)]\n",
    "            # H = np.sum(hs, axis=0)\n",
    "            # direction = -H @ grad(x)\n",
    "\n",
    "            \n",
    "            \n",
    "        alpha, _ = backtrack(func, grad, x, direction, 1, c, r)\n",
    "        xs.append(x + alpha * direction)\n",
    "    \n",
    "    return np.array(xs)"
   ]
  }
 ],
 "metadata": {
  "kernelspec": {
   "display_name": "notebook",
   "language": "python",
   "name": "python3"
  },
  "language_info": {
   "codemirror_mode": {
    "name": "ipython",
    "version": 3
   },
   "file_extension": ".py",
   "mimetype": "text/x-python",
   "name": "python",
   "nbconvert_exporter": "python",
   "pygments_lexer": "ipython3",
   "version": "3.10.9"
  },
  "orig_nbformat": 4
 },
 "nbformat": 4,
 "nbformat_minor": 2
}
